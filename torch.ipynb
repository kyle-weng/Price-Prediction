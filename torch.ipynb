{
 "cells": [
  {
   "cell_type": "code",
   "execution_count": 1,
   "metadata": {},
   "outputs": [],
   "source": [
    "import torch\n",
    "import pandas as pd\n",
    "import numpy as np\n",
    "import matplotlib.pyplot as plt\n",
    "\n",
    "import torch.nn as nn\n",
    "from torch.utils.data import Dataset, DataLoader\n",
    "\n",
    "import squints as sq"
   ]
  },
  {
   "cell_type": "markdown",
   "metadata": {},
   "source": [
    "## Data Loading"
   ]
  },
  {
   "cell_type": "code",
   "execution_count": 2,
   "metadata": {},
   "outputs": [],
   "source": [
    "train_o = pd.read_csv(\"data/train.csv\")\n",
    "test_o = pd.read_csv(\"data/test.csv\")"
   ]
  },
  {
   "cell_type": "code",
   "execution_count": 3,
   "metadata": {},
   "outputs": [],
   "source": [
    "prepr = lambda data:sq.logize(sq.fillize(sq.relize(sq.deidize(data))))\n",
    "\n",
    "ftrainX, ftrainY = prepr(train_o.drop(\"y\",axis=1)), train_o[\"y\"]\n",
    "ftrainX, ftestX = sq.normall([ftrainX, prepr(test_o)])\n",
    "\n",
    "trainX, valX, trainY, valY = sq.splitize(train_o)\n",
    "trainX, valX, testX = sq.normall([prepr(trainX), prepr(valX), prepr(test_o)])"
   ]
  },
  {
   "cell_type": "code",
   "execution_count": 4,
   "metadata": {},
   "outputs": [],
   "source": [
    "class StockDataset(Dataset):\n",
    "    def __init__(self, x, y):\n",
    "        self.X = torch.tensor(x.values.astype(np.float32), dtype=torch.float32)\n",
    "        self.y = torch.tensor(y.values, dtype=torch.long)\n",
    "    \n",
    "    def __len__(self):\n",
    "        return self.X.shape[0]\n",
    "    \n",
    "    def __getitem__(self, idx):       \n",
    "        return (self.X[idx],\n",
    "                self.y[idx]\n",
    "               )"
   ]
  },
  {
   "cell_type": "code",
   "execution_count": 11,
   "metadata": {},
   "outputs": [],
   "source": [
    "bsize = 32\n",
    "\n",
    "train = DataLoader(StockDataset(trainX, trainY), batch_size=bsize, shuffle=True)\n",
    "val = DataLoader(StockDataset(valX, valY), batch_size=bsize, shuffle=True)\n",
    "ftrain = DataLoader(StockDataset(ftrainX, ftrainY), batch_size=bsize)"
   ]
  },
  {
   "cell_type": "markdown",
   "metadata": {},
   "source": [
    "## Train"
   ]
  },
  {
   "cell_type": "code",
   "execution_count": 6,
   "metadata": {},
   "outputs": [],
   "source": [
    "def mfit(model, train, val=None, lr=1e-3, nepochs=10):\n",
    "    #model.cuda()\n",
    "    loss_fn = nn.CrossEntropyLoss()\n",
    "    optimizer = torch.optim.Adam(model.parameters(), lr=lr)\n",
    "\n",
    "    s_train = np.zeros(nepochs)\n",
    "    s_val = np.zeros(nepochs)\n",
    "    for epoch in range(nepochs):\n",
    "        model.train()\n",
    "        for i, (data, target) in enumerate(train):\n",
    "            #data, target = data.cuda(), target.cuda()\n",
    "            if (i % int(len(train)/20) == 0):\n",
    "                print(f\"{int(i/len(train)*20)} \", end=\"\")\n",
    "            optimizer.zero_grad()\n",
    "            output = model(data)\n",
    "            loss = loss_fn(output, target)\n",
    "            loss.backward()\n",
    "            optimizer.step()\n",
    "\n",
    "        if (val is not None):\n",
    "            s_val[epoch] = meval(model, val)\n",
    "        s_train[epoch] = meval(model, train)\n",
    "        print(s_train[epoch], s_val[epoch])\n",
    "    return s_train, s_val\n",
    "\n",
    "import sklearn.metrics\n",
    "def meval(model, data, nsamp=8):\n",
    "    model.eval()\n",
    "    bsize = data.batch_size\n",
    "    outs = torch.zeros(nsamp*bsize)\n",
    "    targets = torch.zeros(nsamp*bsize)\n",
    "    sm = nn.Softmax(dim=1)\n",
    "    for i, (data, target) in enumerate(data):\n",
    "        if (i >= nsamp):\n",
    "            break\n",
    "        outs[i*bsize:(i+1)*bsize] = sm(model(data).detach())[:,1]\n",
    "        targets[i*bsize:(i+1)*bsize] = target\n",
    "    return sklearn.metrics.roc_auc_score(targets, outs)"
   ]
  },
  {
   "cell_type": "code",
   "execution_count": 7,
   "metadata": {},
   "outputs": [],
   "source": [
    "layers = [\n",
    "    nn.Linear(27, 10),\n",
    "    nn.ReLU(),\n",
    "    nn.Dropout(p=0.5),\n",
    "    nn.Linear(10, 5),\n",
    "    nn.ReLU(),\n",
    "    nn.Dropout(p=0.5),\n",
    "    nn.Linear(5,2)\n",
    "]"
   ]
  },
  {
   "cell_type": "code",
   "execution_count": 8,
   "metadata": {},
   "outputs": [
    {
     "name": "stdout",
     "output_type": "stream",
     "text": [
      "0 0 1 2 3 4 5 6 7 8 9 10 11 12 13 14 15 16 17 18 19 0.6203626799557032 0.6323728354978355\n",
      "0 0 1 2 3 4 5 6 7 8 9 10 11 12 13 14 15 16 17 18 19 0.6946291925910034 0.5597603279722484\n",
      "0 0 1 2 3 4 5 6 7 8 9 10 11 12 13 14 15 16 17 18 19 0.7052878179384204 0.6418340026773761\n"
     ]
    }
   ],
   "source": [
    "model = nn.Sequential(*layers)\n",
    "strain, sval = mfit(model, train, val, nepochs=3, lr=1e-4)"
   ]
  },
  {
   "cell_type": "markdown",
   "metadata": {},
   "source": [
    "## Predict"
   ]
  },
  {
   "cell_type": "code",
   "execution_count": 12,
   "metadata": {},
   "outputs": [],
   "source": [
    "ttrain = torch.tensor(ftrainX.values.astype(np.float32))\n",
    "ttest = torch.tensor(testX.values.astype(np.float32))"
   ]
  },
  {
   "cell_type": "code",
   "execution_count": 13,
   "metadata": {},
   "outputs": [
    {
     "name": "stdout",
     "output_type": "stream",
     "text": [
      "0 0 1 2 3 4 5 6 7 8 9 10 11 12 13 14 15 16 17 18 19 0.5866279069767442 0.0\n",
      "0 0 1 2 3 4 5 6 7 8 9 10 11 12 13 14 15 16 17 18 19 0.6028701625518601 0.0\n",
      "0 0 1 2 3 4 5 6 7 8 9 10 11 12 13 14 15 16 17 18 19 0.6958096590909091 0.0\n"
     ]
    }
   ],
   "source": [
    "fmodel = nn.Sequential(*layers)\n",
    "fstrain, fsval = mfit(fmodel, train, nepochs=3, lr=1e-4)"
   ]
  },
  {
   "cell_type": "code",
   "execution_count": 14,
   "metadata": {},
   "outputs": [],
   "source": [
    "def toprob(p):\n",
    "    sm = nn.Softmax(dim=1)\n",
    "    return sm(p.detach())[:,1]\n",
    "\n",
    "fptrain = toprob(fmodel(ttrain))\n",
    "fptest = toprob(fmodel(ttest))"
   ]
  },
  {
   "cell_type": "code",
   "execution_count": 15,
   "metadata": {},
   "outputs": [
    {
     "data": {
      "image/png": "[encoded data removed]",
      "text/plain": [
       "<Figure size 432x288 with 1 Axes>"
      ]
     },
     "metadata": {
      "needs_background": "light"
     },
     "output_type": "display_data"
    }
   ],
   "source": [
    "sq.ecdf(fptest)"
   ]
  },
  {
   "cell_type": "code",
   "execution_count": 16,
   "metadata": {},
   "outputs": [],
   "source": [
    "sq.write(train_o[\"id\"], fptrain, \"torch-train.csv\")\n",
    "sq.write(test_o[\"id\"], fptest, \"torch-test.csv\")"
   ]
  }
 ],
 "metadata": {
  "kernelspec": {
   "display_name": "Python 3",
   "language": "python",
   "name": "python3"
  },
  "language_info": {
   "codemirror_mode": {
    "name": "ipython",
    "version": 3
   },
   "file_extension": ".py",
   "mimetype": "text/x-python",
   "name": "python",
   "nbconvert_exporter": "python",
   "pygments_lexer": "ipython3",
   "version": "3.8.1"
  }
 },
 "nbformat": 4,
 "nbformat_minor": 4
}
