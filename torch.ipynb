{
 "cells": [
  {
   "cell_type": "code",
   "execution_count": 52,
   "metadata": {},
   "outputs": [],
   "source": [
    "import torch\n",
    "import pandas as pd\n",
    "import numpy as np\n",
    "import matplotlib.pyplot as plt\n",
    "\n",
    "import torch.nn as nn\n",
    "from torch.utils.data import Dataset, DataLoader"
   ]
  },
  {
   "cell_type": "code",
   "execution_count": 53,
   "metadata": {},
   "outputs": [],
   "source": [
    "def ecdf(data):\n",
    "    plt.plot(np.sort(data), np.linspace(0,1,len(data)))"
   ]
  },
  {
   "cell_type": "markdown",
   "metadata": {},
   "source": [
    "## Data Loading"
   ]
  },
  {
   "cell_type": "code",
   "execution_count": 59,
   "metadata": {},
   "outputs": [],
   "source": [
    "train_o = pd.read_csv(\"data/train.csv\")\n",
    "test_o = pd.read_csv(\"data/test.csv\")"
   ]
  },
  {
   "cell_type": "code",
   "execution_count": 60,
   "metadata": {},
   "outputs": [],
   "source": [
    "def fillize(data):\n",
    "    \"\"\"Replace NaNs with zero, and adds indicator\n",
    "    *only checks opened_position_qty\"\"\"\n",
    "    nans = np.isnan(data[\"opened_position_qty \"])\n",
    "    return data.fillna(0).assign(nans=nans)\n",
    "\n",
    "def deidize(data):\n",
    "    \"\"\"drop id column\"\"\"\n",
    "    return data.drop(\"id\", axis=1)\n",
    "\n",
    "def relize(data):\n",
    "    \"\"\"replace bid[i] and ask[i] columns with\n",
    "    bid[i]-bid[i-1] ans ask[i]-ask[i-1]\"\"\"\n",
    "    rel = data.copy()\n",
    "    for i in range(5,1,-1):\n",
    "        rel[f\"bid{i}\"] = rel[f\"bid{i-1}\"] - rel[f\"bid{i}\"]\n",
    "        rel[f\"ask{i}\"] -= rel[f\"ask{i-1}\"]\n",
    "\n",
    "    rel[\"bid1\"] = rel[\"last_price\"] - rel[\"bid1\"]\n",
    "    rel[\"ask1\"] -= rel[\"last_price\"]\n",
    "    return rel\n",
    "\n",
    "import sklearn.preprocessing\n",
    "def normall(datas):\n",
    "    \"\"\"standardize last_price, mid, and d_open_interest\"\"\"\n",
    "    scaler_price = sklearn.preprocessing.StandardScaler()\n",
    "    scaler_price.fit(datas[0][[\"last_price\"]])\n",
    "    scaler_interest = sklearn.preprocessing.StandardScaler()\n",
    "    scaler_interest.fit(datas[0][[\"d_open_interest\"]])\n",
    "\n",
    "    normeds = []\n",
    "    for data in datas:\n",
    "        normed = data.copy()\n",
    "        normed[[\"last_price\",\"mid\"]] = scaler_price.transform(normed[[\"last_price\",\"mid\"]])\n",
    "        normed[[\"d_open_interest\"]] = scaler_interest.transform(normed[[\"d_open_interest\"]])\n",
    "        normeds.append(normed)\n",
    "    return normeds\n",
    "\n",
    "def logize(data):\n",
    "    cols = sum([\n",
    "        [\"opened_position_qty \", \"closed_position_qty\", \"transacted_qty\"],\n",
    "        [f\"bid{i}\" for i in range(2,6)],\n",
    "        [f\"bid{i}vol\" for i in range(1,6)],\n",
    "        [f\"ask{i}\" for i in range(2,6)],\n",
    "        [f\"ask{i}vol\" for i in range(1,6)],\n",
    "    ], [])\n",
    "    logged = data.copy()\n",
    "    logged.loc[:,cols] = np.log1p(logged.loc[:,cols])\n",
    "    return logged\n",
    "\n",
    "import sklearn.model_selection\n",
    "def splitize(data):\n",
    "    \"\"\"make train and validation set\"\"\"\n",
    "    return sklearn.model_selection.train_test_split(data.drop(\"y\",axis=1), data[\"y\"])"
   ]
  },
  {
   "cell_type": "code",
   "execution_count": 61,
   "metadata": {},
   "outputs": [],
   "source": [
    "prepr = lambda data:logize(fillize(relize(deidize(data))))\n",
    "\n",
    "ftrainX, ftrainY = prepr(train_o.drop(\"y\",axis=1)), train_o[\"y\"]\n",
    "ftrainX, ftestX = normall([ftrainX, prepr(test_o)])\n",
    "\n",
    "trainX, valX, trainY, valY = splitize(train_o)\n",
    "trainX, valX, testX = normall([prepr(trainX), prepr(valX), prepr(test_o)])"
   ]
  },
  {
   "cell_type": "code",
   "execution_count": 62,
   "metadata": {},
   "outputs": [],
   "source": [
    "class StockDataset(Dataset):\n",
    "    def __init__(self, x, y):\n",
    "        self.X = torch.tensor(x.values.astype(np.float32), dtype=torch.float32)\n",
    "        self.y = torch.tensor(y.values, dtype=torch.long)\n",
    "    \n",
    "    def __len__(self):\n",
    "        return self.X.shape[0]\n",
    "    \n",
    "    def __getitem__(self, idx):       \n",
    "        return (self.X[idx],\n",
    "                self.y[idx]\n",
    "               )"
   ]
  },
  {
   "cell_type": "code",
   "execution_count": 63,
   "metadata": {},
   "outputs": [],
   "source": [
    "bsize = 32\n",
    "\n",
    "train = DataLoader(StockDataset(trainX, trainY), batch_size=bsize, shuffle=True)\n",
    "val = DataLoader(StockDataset(valX, valY), batch_size=bsize, shuffle=True)\n",
    "ftrain = DataLoader(StockDataset(ftrainX, ftrainY), batch_size=bsize)"
   ]
  },
  {
   "cell_type": "markdown",
   "metadata": {},
   "source": [
    "## Train"
   ]
  },
  {
   "cell_type": "code",
   "execution_count": 64,
   "metadata": {},
   "outputs": [],
   "source": [
    "def mfit(model, train, val, lr=1e-3, nepochs=10):\n",
    "    model.cuda()\n",
    "    loss_fn = nn.CrossEntropyLoss()\n",
    "    optimizer = torch.optim.Adam(model.parameters(), lr=lr)\n",
    "\n",
    "    s_train = np.zeros(nepochs)\n",
    "    s_val = np.zeros(nepochs)\n",
    "    for epoch in range(nepochs):\n",
    "        model.train()\n",
    "        for i, (data, target) in enumerate(train):\n",
    "            data, target = data.cuda(), target.cuda()\n",
    "            if (i % int(len(train)/20) == 0):\n",
    "                print(f\"{int(i/len(train)*20)} \", end=\"\")\n",
    "            optimizer.zero_grad()\n",
    "            output = model(data)\n",
    "            loss = loss_fn(output, target)\n",
    "            loss.backward()\n",
    "            optimizer.step()\n",
    "\n",
    "        s_val[epoch] = meval(model, val)\n",
    "        s_train[epoch] = meval(model, train)\n",
    "        print(s_train[epoch], s_val[epoch])\n",
    "    return s_train, s_val\n",
    "\n",
    "def meval(model, data, nsamp=8):\n",
    "    model.eval()\n",
    "    bsize = data.batch_size\n",
    "    outs = torch.zeros(nsamp*bsize)\n",
    "    targets = torch.zeros(nsamp*bsize)\n",
    "    sm = nn.Softmax(dim=1)\n",
    "    for i, (data, target) in enumerate(data):\n",
    "        if (i >= nsamp):\n",
    "            break\n",
    "        outs[i*bsize:(i+1)*bsize] = sm(model(data).detach())[:,1]\n",
    "        targets[i*bsize:(i+1)*bsize] = target\n",
    "    return sklearn.metrics.roc_auc_score(targets, outs)"
   ]
  },
  {
   "cell_type": "code",
   "execution_count": 71,
   "metadata": {},
   "outputs": [],
   "source": [
    "model = torch.nn.Sequential(\n",
    "    nn.Linear(27, 10),\n",
    "    nn.ReLU(),\n",
    "    nn.Dropout(p=0.5),\n",
    "    nn.Linear(10, 5),\n",
    "    nn.ReLU(),\n",
    "    nn.Dropout(p=0.5),\n",
    "    nn.Linear(5,2)\n",
    ")"
   ]
  },
  {
   "cell_type": "code",
   "execution_count": 72,
   "metadata": {},
   "outputs": [
    {
     "name": "stdout",
     "output_type": "stream",
     "text": [
      "0 0 1 2 3 4 5 6 7 8 9 10 11 12 13 14 15 16 17 18 19 0.6121089607635206 0.5584856035437431\n",
      "0 0 1 2 3 4 5 6 7 8 9 10 11 12 13 14 15 16 17 18 19 0.6376518218623481 0.6443738977072311\n",
      "0 0 1 2 3 4 5 6 7 8 9 10 11 12 13 14 15 16 17 18 19 0.6757047702348112 0.6983969918860083\n",
      "0 0 1 2 3 4 5 6 7 8 9 10 11 12 13 14 15 16 17 18 19 0.6267587369513065 0.646484375\n",
      "0 0 1 2 3 4 5 6 7 8 9 10 11 12 13 14 15 16 17 18 19 0.7082921037007718 0.6781121751025992\n"
     ]
    }
   ],
   "source": [
    "strain, sval = mfit(model, train, val, nepochs=5, lr=1e-4)"
   ]
  },
  {
   "cell_type": "markdown",
   "metadata": {},
   "source": [
    "## Predict"
   ]
  },
  {
   "cell_type": "code",
   "execution_count": 67,
   "metadata": {},
   "outputs": [],
   "source": [
    "test = torch.tensor(testX.values.astype(np.float32))"
   ]
  },
  {
   "cell_type": "code",
   "execution_count": 68,
   "metadata": {},
   "outputs": [],
   "source": [
    "sm = nn.Softmax(dim=1)\n",
    "p = sm(model(test).detach())[:,1]"
   ]
  },
  {
   "cell_type": "code",
   "execution_count": 69,
   "metadata": {},
   "outputs": [
    {
     "data": {
      "image/png": "[encoded data removed]",
      "text/plain": [
       "<Figure size 432x288 with 1 Axes>"
      ]
     },
     "metadata": {
      "needs_background": "light"
     },
     "output_type": "display_data"
    }
   ],
   "source": [
    "ecdf(p)"
   ]
  },
  {
   "cell_type": "code",
   "execution_count": 70,
   "metadata": {},
   "outputs": [],
   "source": [
    "out = pd.DataFrame({\"id\":test_o.iloc[:,0], \"Predicted\":p})\n",
    "\n",
    "with open(\"net.csv\", \"w\") as f:\n",
    "    f.write(out.to_csv(index=False))"
   ]
  },
  {
   "cell_type": "code",
   "execution_count": null,
   "metadata": {},
   "outputs": [],
   "source": []
  }
 ],
 "metadata": {
  "kernelspec": {
   "display_name": "Python 3",
   "language": "python",
   "name": "python3"
  },
  "language_info": {
   "codemirror_mode": {
    "name": "ipython",
    "version": 3
   },
   "file_extension": ".py",
   "mimetype": "text/x-python",
   "name": "python",
   "nbconvert_exporter": "python",
   "pygments_lexer": "ipython3",
   "version": "3.7.6"
  }
 },
 "nbformat": 4,
 "nbformat_minor": 4
}
