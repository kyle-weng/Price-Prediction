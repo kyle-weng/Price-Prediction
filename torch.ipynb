{
 "cells": [
  {
   "cell_type": "code",
   "execution_count": 1,
   "metadata": {},
   "outputs": [],
   "source": [
    "import torch\n",
    "import pandas as pd\n",
    "import numpy as np\n",
    "import matplotlib.pyplot as plt\n",
    "\n",
    "import torch.nn as nn\n",
    "from torch.utils.data import Dataset, DataLoader"
   ]
  },
  {
   "cell_type": "code",
   "execution_count": 2,
   "metadata": {},
   "outputs": [],
   "source": [
    "train_o = pd.read_csv(\"data/train.csv\")\n",
    "test_o = pd.read_csv(\"data/test.csv\")"
   ]
  },
  {
   "cell_type": "code",
   "execution_count": 3,
   "metadata": {},
   "outputs": [],
   "source": [
    "def fillize(data):\n",
    "    nans = np.isnan(data[\"opened_position_qty\"])\n",
    "    return data.fillna(0).assign(nans=nans)\n",
    "\n",
    "def deidize(data):\n",
    "    return data.drop(\"id\", axis=1)\n",
    "\n",
    "def relize(data):\n",
    "    rel = data.copy()\n",
    "    for i in range(5,1,-1):\n",
    "        rel[f\"bid{i}\"] -= rel[f\"bid{i-1}\"]\n",
    "        rel[f\"ask{i}\"] -= rel[f\"ask{i-1}\"]\n",
    "\n",
    "    rel[\"ask1\"] -= rel[\"last_price\"]\n",
    "    rel[\"bid1\"] -= rel[\"last_price\"]\n",
    "    return rel\n",
    "\n",
    "def normize(train, test):\n",
    "    mu = train[\"last_price\"].mean()\n",
    "    sigma = train[\"last_price\"].std()\n",
    "    ntrain = train.copy()\n",
    "    ntest = test.copy()\n",
    "    ntrain.loc[:,[\"last_price\", \"mid\"]] = (ntrain.loc[:,[\"last_price\", \"mid\"]] - mu) / sigma\n",
    "    ntest.loc[:,[\"last_price\", \"mid\"]] = (ntest.loc[:,[\"last_price\", \"mid\"]] - mu) / sigma\n",
    "    return ntrain, ntest"
   ]
  },
  {
   "cell_type": "code",
   "execution_count": 5,
   "metadata": {},
   "outputs": [],
   "source": [
    "train_d = fillize(relize(deidize(train_o)))\n",
    "test_d = fillize(relize(deidize(test_o)))\n",
    "train_d, test_d = normize(train_d, test_d)"
   ]
  },
  {
   "cell_type": "code",
   "execution_count": 38,
   "metadata": {},
   "outputs": [],
   "source": [
    "class StockDataset(Dataset):\n",
    "    def __init__(self, df):\n",
    "        self.X = torch.tensor(df.drop(\"y\",axis=1).values.astype(np.float32))\n",
    "        self.y = torch.tensor(df[\"y\"].values.astype(np.long))\n",
    "    \n",
    "    def __len__(self):\n",
    "        return self.X.shape[0]\n",
    "    \n",
    "    def __getitem__(self, idx):       \n",
    "        return (self.X[idx],\n",
    "                self.y[idx]\n",
    "               )"
   ]
  },
  {
   "cell_type": "code",
   "execution_count": 39,
   "metadata": {},
   "outputs": [],
   "source": [
    "train = StockDataset(train_d)\n",
    "\n",
    "loader = DataLoader(train, batch_size=32)\n",
    "\n",
    "#next(iter(loader))"
   ]
  },
  {
   "cell_type": "code",
   "execution_count": 40,
   "metadata": {},
   "outputs": [],
   "source": [
    "model = torch.nn.Sequential(\n",
    "    nn.Linear(27, 10),\n",
    "    nn.ReLU(),\n",
    "    nn.Linear(10,2)\n",
    ")"
   ]
  },
  {
   "cell_type": "code",
   "execution_count": 44,
   "metadata": {},
   "outputs": [
    {
     "name": "stdout",
     "output_type": "stream",
     "text": [
      "0 925 1850 2775 3700 4625 5550 6475 7400 8325 9250 10175 11100 12025 12950 13875 14800 15725 16650 17575 18500 "
     ]
    }
   ],
   "source": [
    "model.train()\n",
    "\n",
    "loss_fn = nn.CrossEntropyLoss()\n",
    "optimizer = torch.optim.Adam(model.parameters(), lr=1e-3)\n",
    "\n",
    "for i, (data, target) in enumerate(loader):\n",
    "    if (i % int(len(loader)/20) == 0):\n",
    "        print(f\"{i} \", end=\"\")\n",
    "    optimizer.zero_grad()\n",
    "    output = model(data)\n",
    "    loss = loss_fn(output, target)\n",
    "    loss.backward()\n",
    "    optimizer.step()"
   ]
  },
  {
   "cell_type": "code",
   "execution_count": 45,
   "metadata": {},
   "outputs": [
    {
     "data": {
      "text/plain": [
       "tensor(0.5638, grad_fn=<NllLossBackward>)"
      ]
     },
     "execution_count": 45,
     "metadata": {},
     "output_type": "execute_result"
    }
   ],
   "source": [
    "d, t = next(iter(loader))\n",
    "p = model(d)\n",
    "loss_fn(p,t)"
   ]
  },
  {
   "cell_type": "code",
   "execution_count": 46,
   "metadata": {},
   "outputs": [
    {
     "data": {
      "text/plain": [
       "tensor([[-4.5612, -3.3968],\n",
       "        [-2.9975, -2.2433],\n",
       "        [-4.2436, -4.0971],\n",
       "        [-2.2189, -0.9703],\n",
       "        [-2.7718, -1.0973],\n",
       "        [-0.0991, -1.1571],\n",
       "        [-1.1637, -1.8702],\n",
       "        [-1.7730, -0.7834],\n",
       "        [-1.9753, -1.9643],\n",
       "        [-1.6277, -1.0757],\n",
       "        [-0.2062, -0.6001],\n",
       "        [-0.6880, -0.3104],\n",
       "        [-0.7328, -1.0500],\n",
       "        [-0.2756, -0.3346],\n",
       "        [ 0.0204, -0.3752],\n",
       "        [-0.5357,  0.0910],\n",
       "        [ 0.0204, -0.3752],\n",
       "        [ 0.0970, -0.7680],\n",
       "        [-0.2841, -0.8246],\n",
       "        [-0.0758, -0.4474],\n",
       "        [-0.2002, -0.4690],\n",
       "        [-0.2338,  0.1357],\n",
       "        [ 0.7511, -0.2473],\n",
       "        [ 0.0134, -0.9611],\n",
       "        [-0.0405, -0.7741],\n",
       "        [ 0.2607,  0.1703],\n",
       "        [-0.4224,  0.1860],\n",
       "        [ 0.0635, -0.4187],\n",
       "        [-0.1772, -0.5140],\n",
       "        [-0.0628, -0.5233],\n",
       "        [-0.4378, -1.0469],\n",
       "        [-1.0409,  0.3420]], grad_fn=<AddmmBackward>)"
      ]
     },
     "execution_count": 46,
     "metadata": {},
     "output_type": "execute_result"
    }
   ],
   "source": [
    "p"
   ]
  },
  {
   "cell_type": "code",
   "execution_count": null,
   "metadata": {},
   "outputs": [],
   "source": []
  }
 ],
 "metadata": {
  "kernelspec": {
   "display_name": "Python 3",
   "language": "python",
   "name": "python3"
  },
  "language_info": {
   "codemirror_mode": {
    "name": "ipython",
    "version": 3
   },
   "file_extension": ".py",
   "mimetype": "text/x-python",
   "name": "python",
   "nbconvert_exporter": "python",
   "pygments_lexer": "ipython3",
   "version": "3.8.1"
  }
 },
 "nbformat": 4,
 "nbformat_minor": 4
}
