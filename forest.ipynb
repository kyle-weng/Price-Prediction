{
 "cells": [
  {
   "cell_type": "code",
   "execution_count": 1,
   "metadata": {},
   "outputs": [],
   "source": [
    "import numpy as np\n",
    "import pandas as pd\n",
    "import matplotlib.pyplot as plt\n",
    "\n",
    "import sklearn\n",
    "import squints as sq"
   ]
  },
  {
   "cell_type": "markdown",
   "metadata": {},
   "source": [
    "## Data loading"
   ]
  },
  {
   "cell_type": "code",
   "execution_count": 2,
   "metadata": {},
   "outputs": [],
   "source": [
    "train_o = pd.read_csv(\"data/train.csv\")\n",
    "test_o = pd.read_csv(\"data/test.csv\")"
   ]
  },
  {
   "cell_type": "code",
   "execution_count": 3,
   "metadata": {},
   "outputs": [
    {
     "data": {
      "text/html": [
       "<div>\n",
       "<style scoped>\n",
       "    .dataframe tbody tr th:only-of-type {\n",
       "        vertical-align: middle;\n",
       "    }\n",
       "\n",
       "    .dataframe tbody tr th {\n",
       "        vertical-align: top;\n",
       "    }\n",
       "\n",
       "    .dataframe thead th {\n",
       "        text-align: right;\n",
       "    }\n",
       "</style>\n",
       "<table border=\"1\" class=\"dataframe\">\n",
       "  <thead>\n",
       "    <tr style=\"text-align: right;\">\n",
       "      <th></th>\n",
       "      <th>id</th>\n",
       "      <th>last_price</th>\n",
       "      <th>mid</th>\n",
       "      <th>opened_position_qty</th>\n",
       "      <th>closed_position_qty</th>\n",
       "      <th>transacted_qty</th>\n",
       "      <th>d_open_interest</th>\n",
       "      <th>bid1</th>\n",
       "      <th>bid2</th>\n",
       "      <th>bid3</th>\n",
       "      <th>...</th>\n",
       "      <th>bid2vol</th>\n",
       "      <th>bid3vol</th>\n",
       "      <th>bid4vol</th>\n",
       "      <th>bid5vol</th>\n",
       "      <th>ask1vol</th>\n",
       "      <th>ask2vol</th>\n",
       "      <th>ask3vol</th>\n",
       "      <th>ask4vol</th>\n",
       "      <th>ask5vol</th>\n",
       "      <th>y</th>\n",
       "    </tr>\n",
       "  </thead>\n",
       "  <tbody>\n",
       "    <tr>\n",
       "      <th>0</th>\n",
       "      <td>0</td>\n",
       "      <td>3842.4</td>\n",
       "      <td>3842.6</td>\n",
       "      <td>NaN</td>\n",
       "      <td>NaN</td>\n",
       "      <td>103.0</td>\n",
       "      <td>0</td>\n",
       "      <td>3842.4</td>\n",
       "      <td>3842.0</td>\n",
       "      <td>3841.8</td>\n",
       "      <td>...</td>\n",
       "      <td>1</td>\n",
       "      <td>6</td>\n",
       "      <td>14</td>\n",
       "      <td>6</td>\n",
       "      <td>6</td>\n",
       "      <td>1</td>\n",
       "      <td>1</td>\n",
       "      <td>10</td>\n",
       "      <td>2</td>\n",
       "      <td>1</td>\n",
       "    </tr>\n",
       "    <tr>\n",
       "      <th>1</th>\n",
       "      <td>1</td>\n",
       "      <td>3842.8</td>\n",
       "      <td>3843.4</td>\n",
       "      <td>6.0</td>\n",
       "      <td>49.0</td>\n",
       "      <td>55.0</td>\n",
       "      <td>-43</td>\n",
       "      <td>3843.0</td>\n",
       "      <td>3842.8</td>\n",
       "      <td>3842.4</td>\n",
       "      <td>...</td>\n",
       "      <td>6</td>\n",
       "      <td>11</td>\n",
       "      <td>1</td>\n",
       "      <td>6</td>\n",
       "      <td>1</td>\n",
       "      <td>4</td>\n",
       "      <td>4</td>\n",
       "      <td>1</td>\n",
       "      <td>13</td>\n",
       "      <td>0</td>\n",
       "    </tr>\n",
       "    <tr>\n",
       "      <th>2</th>\n",
       "      <td>2</td>\n",
       "      <td>3844.0</td>\n",
       "      <td>3844.3</td>\n",
       "      <td>7.0</td>\n",
       "      <td>77.0</td>\n",
       "      <td>84.0</td>\n",
       "      <td>-69</td>\n",
       "      <td>3843.8</td>\n",
       "      <td>3843.6</td>\n",
       "      <td>3843.2</td>\n",
       "      <td>...</td>\n",
       "      <td>1</td>\n",
       "      <td>4</td>\n",
       "      <td>21</td>\n",
       "      <td>12</td>\n",
       "      <td>1</td>\n",
       "      <td>16</td>\n",
       "      <td>10</td>\n",
       "      <td>4</td>\n",
       "      <td>9</td>\n",
       "      <td>0</td>\n",
       "    </tr>\n",
       "    <tr>\n",
       "      <th>3</th>\n",
       "      <td>3</td>\n",
       "      <td>3843.8</td>\n",
       "      <td>3843.4</td>\n",
       "      <td>3.0</td>\n",
       "      <td>34.0</td>\n",
       "      <td>37.0</td>\n",
       "      <td>-30</td>\n",
       "      <td>3843.0</td>\n",
       "      <td>3842.8</td>\n",
       "      <td>3842.4</td>\n",
       "      <td>...</td>\n",
       "      <td>13</td>\n",
       "      <td>12</td>\n",
       "      <td>2</td>\n",
       "      <td>4</td>\n",
       "      <td>2</td>\n",
       "      <td>7</td>\n",
       "      <td>1</td>\n",
       "      <td>2</td>\n",
       "      <td>11</td>\n",
       "      <td>1</td>\n",
       "    </tr>\n",
       "    <tr>\n",
       "      <th>4</th>\n",
       "      <td>4</td>\n",
       "      <td>3843.2</td>\n",
       "      <td>3843.1</td>\n",
       "      <td>3.0</td>\n",
       "      <td>38.0</td>\n",
       "      <td>41.0</td>\n",
       "      <td>-35</td>\n",
       "      <td>3842.8</td>\n",
       "      <td>3842.4</td>\n",
       "      <td>3842.0</td>\n",
       "      <td>...</td>\n",
       "      <td>12</td>\n",
       "      <td>2</td>\n",
       "      <td>2</td>\n",
       "      <td>4</td>\n",
       "      <td>1</td>\n",
       "      <td>3</td>\n",
       "      <td>1</td>\n",
       "      <td>11</td>\n",
       "      <td>15</td>\n",
       "      <td>1</td>\n",
       "    </tr>\n",
       "  </tbody>\n",
       "</table>\n",
       "<p>5 rows × 28 columns</p>\n",
       "</div>"
      ],
      "text/plain": [
       "   id  last_price     mid  opened_position_qty  closed_position_qty  \\\n",
       "0   0      3842.4  3842.6                  NaN                  NaN   \n",
       "1   1      3842.8  3843.4                  6.0                 49.0   \n",
       "2   2      3844.0  3844.3                  7.0                 77.0   \n",
       "3   3      3843.8  3843.4                  3.0                 34.0   \n",
       "4   4      3843.2  3843.1                  3.0                 38.0   \n",
       "\n",
       "   transacted_qty  d_open_interest    bid1    bid2    bid3  ...  bid2vol  \\\n",
       "0           103.0                0  3842.4  3842.0  3841.8  ...        1   \n",
       "1            55.0              -43  3843.0  3842.8  3842.4  ...        6   \n",
       "2            84.0              -69  3843.8  3843.6  3843.2  ...        1   \n",
       "3            37.0              -30  3843.0  3842.8  3842.4  ...       13   \n",
       "4            41.0              -35  3842.8  3842.4  3842.0  ...       12   \n",
       "\n",
       "   bid3vol  bid4vol  bid5vol  ask1vol  ask2vol  ask3vol  ask4vol  ask5vol  y  \n",
       "0        6       14        6        6        1        1       10        2  1  \n",
       "1       11        1        6        1        4        4        1       13  0  \n",
       "2        4       21       12        1       16       10        4        9  0  \n",
       "3       12        2        4        2        7        1        2       11  1  \n",
       "4        2        2        4        1        3        1       11       15  1  \n",
       "\n",
       "[5 rows x 28 columns]"
      ]
     },
     "execution_count": 3,
     "metadata": {},
     "output_type": "execute_result"
    }
   ],
   "source": [
    "train_o.head()"
   ]
  },
  {
   "cell_type": "code",
   "execution_count": 4,
   "metadata": {},
   "outputs": [],
   "source": [
    "prepr = lambda data:sq.relize(sq.fillize(sq.deidize(data)))\n",
    "\n",
    "ftrainX, ftrainY = prepr(train_o.drop(\"y\",axis=1)), train_o[\"y\"]\n",
    "ftrainX, ftestX = sq.normall([ftrainX, prepr(test_o)])\n",
    "\n",
    "trainX, valX, trainY, valY = sq.splitize(train_o)\n",
    "trainX, valX, testX = sq.normall([prepr(trainX), prepr(valX), prepr(test_o)])"
   ]
  },
  {
   "cell_type": "markdown",
   "metadata": {},
   "source": [
    "## Forest"
   ]
  },
  {
   "cell_type": "code",
   "execution_count": 5,
   "metadata": {},
   "outputs": [
    {
     "name": "stderr",
     "output_type": "stream",
     "text": [
      "[Parallel(n_jobs=2)]: Using backend ThreadingBackend with 2 concurrent workers.\n",
      "[Parallel(n_jobs=2)]: Done  46 tasks      | elapsed:   22.3s\n",
      "[Parallel(n_jobs=2)]: Done 100 out of 100 | elapsed:   46.9s finished\n"
     ]
    },
    {
     "data": {
      "text/plain": [
       "RandomForestClassifier(bootstrap=True, ccp_alpha=0.0, class_weight=None,\n",
       "                       criterion='gini', max_depth=None, max_features='auto',\n",
       "                       max_leaf_nodes=None, max_samples=None,\n",
       "                       min_impurity_decrease=0.0, min_impurity_split=None,\n",
       "                       min_samples_leaf=100, min_samples_split=2,\n",
       "                       min_weight_fraction_leaf=0.0, n_estimators=100, n_jobs=2,\n",
       "                       oob_score=False, random_state=None, verbose=1,\n",
       "                       warm_start=False)"
      ]
     },
     "execution_count": 5,
     "metadata": {},
     "output_type": "execute_result"
    }
   ],
   "source": [
    "import sklearn.ensemble\n",
    "\n",
    "forest = sklearn.ensemble.RandomForestClassifier(\n",
    "    min_samples_leaf=100, n_jobs=2, verbose=1\n",
    ")\n",
    "forest.fit(trainX, trainY)"
   ]
  },
  {
   "cell_type": "code",
   "execution_count": 6,
   "metadata": {},
   "outputs": [
    {
     "name": "stderr",
     "output_type": "stream",
     "text": [
      "[Parallel(n_jobs=2)]: Using backend ThreadingBackend with 2 concurrent workers.\n",
      "[Parallel(n_jobs=2)]: Done  46 tasks      | elapsed:    0.6s\n",
      "[Parallel(n_jobs=2)]: Done 100 out of 100 | elapsed:    1.4s finished\n"
     ]
    },
    {
     "data": {
      "text/plain": [
       "0.6713026527814374"
      ]
     },
     "execution_count": 6,
     "metadata": {},
     "output_type": "execute_result"
    },
    {
     "data": {
      "image/png": "[encoded data removed]",
      "text/plain": [
       "<Figure size 432x288 with 1 Axes>"
      ]
     },
     "metadata": {
      "needs_background": "light"
     },
     "output_type": "display_data"
    }
   ],
   "source": [
    "p = forest.predict_proba(valX)[:,1]\n",
    "sq.ecdf(p)\n",
    "sklearn.metrics.roc_auc_score(valY, p)"
   ]
  },
  {
   "cell_type": "markdown",
   "metadata": {},
   "source": [
    "## Predict"
   ]
  },
  {
   "cell_type": "code",
   "execution_count": 7,
   "metadata": {},
   "outputs": [
    {
     "name": "stderr",
     "output_type": "stream",
     "text": [
      "[Parallel(n_jobs=2)]: Using backend ThreadingBackend with 2 concurrent workers.\n",
      "[Parallel(n_jobs=2)]: Done  46 tasks      | elapsed:   28.7s\n",
      "[Parallel(n_jobs=2)]: Done 100 out of 100 | elapsed:  1.0min finished\n"
     ]
    },
    {
     "data": {
      "text/plain": [
       "RandomForestClassifier(bootstrap=True, ccp_alpha=0.0, class_weight=None,\n",
       "                       criterion='gini', max_depth=None, max_features='auto',\n",
       "                       max_leaf_nodes=None, max_samples=None,\n",
       "                       min_impurity_decrease=0.0, min_impurity_split=None,\n",
       "                       min_samples_leaf=100, min_samples_split=2,\n",
       "                       min_weight_fraction_leaf=0.0, n_estimators=100, n_jobs=2,\n",
       "                       oob_score=False, random_state=None, verbose=1,\n",
       "                       warm_start=False)"
      ]
     },
     "execution_count": 7,
     "metadata": {},
     "output_type": "execute_result"
    }
   ],
   "source": [
    "# fit on all data and predict\n",
    "forest = sklearn.ensemble.RandomForestClassifier(\n",
    "    min_samples_leaf=100, n_jobs=2, verbose=1\n",
    ")\n",
    "forest.fit(ftrainX, ftrainY)"
   ]
  },
  {
   "cell_type": "code",
   "execution_count": 8,
   "metadata": {},
   "outputs": [
    {
     "name": "stderr",
     "output_type": "stream",
     "text": [
      "[Parallel(n_jobs=2)]: Using backend ThreadingBackend with 2 concurrent workers.\n",
      "[Parallel(n_jobs=2)]: Done  46 tasks      | elapsed:    2.1s\n",
      "[Parallel(n_jobs=2)]: Done 100 out of 100 | elapsed:    5.0s finished\n",
      "[Parallel(n_jobs=2)]: Using backend ThreadingBackend with 2 concurrent workers.\n",
      "[Parallel(n_jobs=2)]: Done  46 tasks      | elapsed:    0.8s\n",
      "[Parallel(n_jobs=2)]: Done 100 out of 100 | elapsed:    1.7s finished\n"
     ]
    }
   ],
   "source": [
    "sq.write(train_o[\"id\"], forest.predict(ftrainX), \"forest-train.csv\")\n",
    "sq.write(test_o[\"id\"], forest.predict(ftestX), \"forest-test.csv\")"
   ]
  }
 ],
 "metadata": {
  "kernelspec": {
   "display_name": "Python 3",
   "language": "python",
   "name": "python3"
  },
  "language_info": {
   "codemirror_mode": {
    "name": "ipython",
    "version": 3
   },
   "file_extension": ".py",
   "mimetype": "text/x-python",
   "name": "python",
   "nbconvert_exporter": "python",
   "pygments_lexer": "ipython3",
   "version": "3.8.1"
  }
 },
 "nbformat": 4,
 "nbformat_minor": 4
}
