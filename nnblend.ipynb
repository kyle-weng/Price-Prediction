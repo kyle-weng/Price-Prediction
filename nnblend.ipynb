{
 "cells": [
  {
   "cell_type": "code",
   "execution_count": 1,
   "metadata": {},
   "outputs": [],
   "source": [
    "import torch\n",
    "import pandas as pd\n",
    "import numpy as np\n",
    "import matplotlib.pyplot as plt\n",
    "\n",
    "import torch.nn as nn\n",
    "from torch.utils.data import Dataset, DataLoader\n",
    "\n",
    "import squints as sq"
   ]
  },
  {
   "cell_type": "markdown",
   "metadata": {},
   "source": [
    "## Data Loading"
   ]
  },
  {
   "cell_type": "code",
   "execution_count": 2,
   "metadata": {},
   "outputs": [],
   "source": [
    "train_o = pd.read_csv(\"data/train.csv\")\n",
    "test_o = pd.read_csv(\"data/test.csv\")"
   ]
  },
  {
   "cell_type": "code",
   "execution_count": 35,
   "metadata": {},
   "outputs": [],
   "source": [
    "def loadpred(name, d=\"pred/\"):\n",
    "    return (pd.read_csv(d+name+\"-train.csv\")[\"Predicted\"],\n",
    "        pd.read_csv(d+name+\"-test.csv\")[\"Predicted\"])\n",
    "\n",
    "ridge = loadpred(\"ridge\")\n",
    "forest = loadpred(\"forest\")\n",
    "ada = loadpred(\"adaboost\")\n",
    "neural1 = loadpred(\"torch\")\n",
    "\n",
    "ftrainX = pd.DataFrame({\n",
    "    \"last_price\":train_o[\"last_price\"],\n",
    "    \"d_open_interest\":train_o[\"d_open_interest\"],\n",
    "    \"transacted_qty\":np.log1p(train_o[\"transacted_qty\"]),\n",
    "    \"ridge\":ridge[0],\n",
    "    \"forest\":forest[0],\n",
    "    \"ada\":ada[0],\n",
    "    \"torch\":neural1[0],\n",
    "})\n",
    "ftrainY = train_o[\"y\"]\n",
    "testX = pd.DataFrame({\n",
    "    \"last_price\":test_o[\"last_price\"],\n",
    "    \"d_open_interest\":test_o[\"d_open_interest\"],\n",
    "    \"transacted_qty\":np.log1p(test_o[\"transacted_qty\"]),\n",
    "    \"ridge\":ridge[1],\n",
    "    \"forest\":forest[1],\n",
    "    \"ada\":ada[1],\n",
    "    \"torch\":neural1[1],\n",
    "})"
   ]
  },
  {
   "cell_type": "code",
   "execution_count": 36,
   "metadata": {},
   "outputs": [],
   "source": [
    "import sklearn.model_selection\n",
    "trainX, valX, trainY, valY = sklearn.model_selection.train_test_split(ftrainX, train_o[\"y\"])"
   ]
  },
  {
   "cell_type": "code",
   "execution_count": 37,
   "metadata": {},
   "outputs": [],
   "source": [
    "class StockDataset(Dataset):\n",
    "    def __init__(self, x, y):\n",
    "        self.X = torch.tensor(x.values.astype(np.float32), dtype=torch.float32)\n",
    "        self.y = torch.tensor(y.values, dtype=torch.long)\n",
    "    \n",
    "    def __len__(self):\n",
    "        return self.X.shape[0]\n",
    "    \n",
    "    def __getitem__(self, idx):       \n",
    "        return (self.X[idx],\n",
    "                self.y[idx]\n",
    "               )"
   ]
  },
  {
   "cell_type": "code",
   "execution_count": 38,
   "metadata": {},
   "outputs": [],
   "source": [
    "bsize = 32\n",
    "\n",
    "train = DataLoader(StockDataset(trainX, trainY), batch_size=bsize, shuffle=True)\n",
    "val = DataLoader(StockDataset(valX, valY), batch_size=bsize, shuffle=True)\n",
    "ftrain = DataLoader(StockDataset(ftrainX, ftrainY), batch_size=bsize)"
   ]
  },
  {
   "cell_type": "markdown",
   "metadata": {},
   "source": [
    "## Train"
   ]
  },
  {
   "cell_type": "code",
   "execution_count": 24,
   "metadata": {},
   "outputs": [],
   "source": [
    "def mfit(model, train, val=None, lr=1e-3, nepochs=10):\n",
    "    #model.cuda()\n",
    "    loss_fn = nn.CrossEntropyLoss()\n",
    "    optimizer = torch.optim.Adam(model.parameters(), lr=lr)\n",
    "\n",
    "    s_train = np.zeros(nepochs)\n",
    "    s_val = np.zeros(nepochs)\n",
    "    for epoch in range(nepochs):\n",
    "        model.train()\n",
    "        for i, (data, target) in enumerate(train):\n",
    "            #data, target = data.cuda(), target.cuda()\n",
    "            if (i % int(len(train)/20) == 0):\n",
    "                print(f\"{int(i/len(train)*20)} \", end=\"\")\n",
    "            optimizer.zero_grad()\n",
    "            output = model(data)\n",
    "            loss = loss_fn(output, target)\n",
    "            loss.backward()\n",
    "            optimizer.step()\n",
    "\n",
    "        if (val is not None):\n",
    "            s_val[epoch] = meval(model, val)\n",
    "        s_train[epoch] = meval(model, train)\n",
    "        print(s_train[epoch], s_val[epoch])\n",
    "    return s_train, s_val\n",
    "\n",
    "import sklearn.metrics\n",
    "def meval(model, data, nsamp=8):\n",
    "    model.eval()\n",
    "    bsize = data.batch_size\n",
    "    outs = torch.zeros(nsamp*bsize)\n",
    "    targets = torch.zeros(nsamp*bsize)\n",
    "    sm = nn.Softmax(dim=1)\n",
    "    for i, (data, target) in enumerate(data):\n",
    "        if (i >= nsamp):\n",
    "            break\n",
    "        outs[i*bsize:(i+1)*bsize] = sm(model(data).detach())[:,1]\n",
    "        targets[i*bsize:(i+1)*bsize] = target\n",
    "    return sklearn.metrics.roc_auc_score(targets, outs)"
   ]
  },
  {
   "cell_type": "code",
   "execution_count": 56,
   "metadata": {},
   "outputs": [],
   "source": [
    "layers = [\n",
    "    nn.Linear(7, 5),\n",
    "    nn.ReLU(),\n",
    "    #nn.Dropout(p=0.1),\n",
    "    nn.Linear(5, 5),\n",
    "    nn.ReLU(),\n",
    "    #nn.Dropout(p=0.05),\n",
    "    nn.Linear(5,2)\n",
    "]"
   ]
  },
  {
   "cell_type": "code",
   "execution_count": 57,
   "metadata": {},
   "outputs": [
    {
     "name": "stdout",
     "output_type": "stream",
     "text": [
      "0 0 1 2 3 4 5 6 7 8 9 10 11 12 13 14 15 16 17 18 19 0.31943640223895 0.46751302083333335\n",
      "0 0 1 2 3 4 5 6 7 8 9 10 11 12 13 14 15 16 17 18 19 0.43931888544891645 0.3635874318778174\n",
      "0 0 1 2 3 4 5 6 7 8 9 10 11 12 13 14 15 16 17 18 19 0.4361373785132651 0.5152045646112948\n",
      "0 0 1 2 3 4 5 6 7 8 9 10 11 12 13 14 15 16 17 18 19 0.5356755030341743 0.5536217948717949\n",
      "0 0 1 2 3 4 5 6 7 8 9 10 11 12 13 14 15 16 17 18 19 0.604995004995005 0.6730118173107633\n"
     ]
    }
   ],
   "source": [
    "model = nn.Sequential(*layers)\n",
    "strain, sval = mfit(model, train, val, nepochs=5, lr=1e-5)"
   ]
  },
  {
   "cell_type": "markdown",
   "metadata": {},
   "source": [
    "## Predict"
   ]
  },
  {
   "cell_type": "code",
   "execution_count": 45,
   "metadata": {},
   "outputs": [],
   "source": [
    "ttrain = torch.tensor(ftrainX.values.astype(np.float32))\n",
    "ttest = torch.tensor(testX.values.astype(np.float32))"
   ]
  },
  {
   "cell_type": "code",
   "execution_count": 11,
   "metadata": {},
   "outputs": [
    {
     "name": "stdout",
     "output_type": "stream",
     "text": [
      "0 0 1 2 3 4 5 6 7 8 9 10 11 12 13 14 15 16 17 18 19 0.5 0.0\n",
      "0 0 1 2 3 4 5 6 7 8 9 10 11 12 13 14 15 16 17 18 19 0.5 0.0\n",
      "0 0 1 2 3 4 5 6 7 8 9 10 11 12 13 14 15 16 17 18 19 0.5 0.0\n"
     ]
    }
   ],
   "source": [
    "fmodel = nn.Sequential(*layers)\n",
    "fstrain, fsval = mfit(fmodel, ftrain, nepochs=3, lr=1e-4)"
   ]
  },
  {
   "cell_type": "code",
   "execution_count": 46,
   "metadata": {},
   "outputs": [],
   "source": [
    "def toprob(p):\n",
    "    sm = nn.Softmax(dim=1)\n",
    "    return sm(p.detach())[:,1]\n",
    "\n",
    "fptrain = toprob(model(ttrain))\n",
    "fptest = toprob(model(ttest))"
   ]
  },
  {
   "cell_type": "code",
   "execution_count": 47,
   "metadata": {},
   "outputs": [
    {
     "data": {
      "image/png": "[encoded data removed]",
      "text/plain": [
       "<Figure size 432x288 with 1 Axes>"
      ]
     },
     "metadata": {
      "needs_background": "light"
     },
     "output_type": "display_data"
    }
   ],
   "source": [
    "sq.ecdf(fptest)"
   ]
  },
  {
   "cell_type": "code",
   "execution_count": 48,
   "metadata": {},
   "outputs": [],
   "source": [
    "sq.write(train_o[\"id\"], fptrain, \"blend-train.csv\")\n",
    "sq.write(test_o[\"id\"], fptest, \"blend-test.csv\")"
   ]
  }
 ],
 "metadata": {
  "kernelspec": {
   "display_name": "Python 3",
   "language": "python",
   "name": "python3"
  },
  "language_info": {
   "codemirror_mode": {
    "name": "ipython",
    "version": 3
   },
   "file_extension": ".py",
   "mimetype": "text/x-python",
   "name": "python",
   "nbconvert_exporter": "python",
   "pygments_lexer": "ipython3",
   "version": "3.8.1"
  }
 },
 "nbformat": 4,
 "nbformat_minor": 4
}
