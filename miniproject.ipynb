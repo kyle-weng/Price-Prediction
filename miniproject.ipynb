{
 "cells": [
  {
   "cell_type": "code",
   "execution_count": 1,
   "metadata": {},
   "outputs": [],
   "source": [
    "import numpy as np\n",
    "import matplotlib.pyplot as plt\n",
    "%matplotlib inline"
   ]
  },
  {
   "cell_type": "code",
   "execution_count": 4,
   "metadata": {},
   "outputs": [],
   "source": [
    "import torch\n",
    "import torchvision\n",
    "import torchvision.transforms as transforms\n",
    "import torch.nn as nn\n",
    "import torch.optim as optim"
   ]
  },
  {
   "cell_type": "code",
   "execution_count": null,
   "metadata": {},
   "outputs": [],
   "source": [
    "mnist_training_data = torchvision.datasets.MNIST('data/', train=True, download=True,\n",
    "                                                transform=transforms.ToTensor())"
   ]
  },
  {
   "cell_type": "code",
   "execution_count": 5,
   "metadata": {},
   "outputs": [],
   "source": [
    "def train(model, use_cuda, n_epochs):\n",
    "    if use_cuda:\n",
    "        model.cuda()\n",
    "    else:\n",
    "        model.cpu()\n",
    "    # optimizer = torch.optim.Adam(model.parameters(), lr=1e-3)\n",
    "    optimizer = optim.RMSprop(model.parameters())\n",
    "    criterion = nn.CrossEntropyLoss()\n",
    "    \n",
    "    # Train the model for n_epochs epochs, iterating on the data in batches\n",
    "\n",
    "    # store metrics\n",
    "    training_accuracy_history = np.zeros([n_epochs, 1])\n",
    "    training_loss_history = np.zeros([n_epochs, 1])\n",
    "    validation_accuracy_history = np.zeros([n_epochs, 1])\n",
    "    validation_loss_history = np.zeros([n_epochs, 1])\n",
    "    \n",
    "    start_time = time.time()\n",
    "    for epoch in range(n_epochs):\n",
    "        print(f'Epoch {epoch+1}/10:', end='')\n",
    "        train_total = 0\n",
    "        train_correct = 0\n",
    "        # train\n",
    "        model.train()\n",
    "        for i, data in enumerate(training_data_loader):\n",
    "            images, labels = data\n",
    "            if use_cuda:\n",
    "                images, labels = images.cuda(), labels.cuda()\n",
    "            optimizer.zero_grad()\n",
    "            # forward pass\n",
    "            output = model(images)\n",
    "            # calculate categorical cross entropy loss\n",
    "            loss = criterion(output, labels)\n",
    "            # backward pass\n",
    "            loss.backward()\n",
    "            optimizer.step()\n",
    "\n",
    "            # track training accuracy\n",
    "            _, predicted = torch.max(output.data, 1)\n",
    "            train_total += labels.size(0)\n",
    "            train_correct += (predicted == labels).sum().item()\n",
    "            # track training loss\n",
    "            training_loss_history[epoch] += loss.item()\n",
    "            # progress update after 180 batches (~1/10 epoch for batch size 32)\n",
    "            if i % 180 == 0: print('.',end='')\n",
    "        training_loss_history[epoch] /= len(training_data_loader)\n",
    "        training_accuracy_history[epoch] = train_correct / train_total\n",
    "        print(f'\\n\\tloss: {training_loss_history[epoch,0]:0.4f}, acc: {training_accuracy_history[epoch,0]:0.4f}',end='')\n",
    "\n",
    "        # validate\n",
    "        test_total = 0\n",
    "        test_correct = 0\n",
    "        with torch.no_grad():\n",
    "            model.eval()\n",
    "            for i, data in enumerate(test_data_loader):\n",
    "                images, labels = data\n",
    "                if use_cuda:\n",
    "                    images, labels = images.cuda(), labels.cuda()\n",
    "                # forward pass\n",
    "                output = model(images)\n",
    "                # find accuracy\n",
    "                _, predicted = torch.max(output.data, 1)\n",
    "                test_total += labels.size(0)\n",
    "                test_correct += (predicted == labels).sum().item()\n",
    "                # find loss\n",
    "                loss = criterion(output, labels)\n",
    "                validation_loss_history[epoch] += loss.item()\n",
    "            validation_loss_history[epoch] /= len(test_data_loader)\n",
    "            validation_accuracy_history[epoch] = test_correct / test_total\n",
    "        print(f', val loss: {validation_loss_history[epoch,0]:0.4f}, val acc: {validation_accuracy_history[epoch,0]:0.4f}')\n",
    "    elapsed_time = time.time() - start_time\n",
    "    print(elapsed_time, \"seconds elapsed\")"
   ]
  },
  {
   "cell_type": "code",
   "execution_count": null,
   "metadata": {},
   "outputs": [],
   "source": []
  }
 ],
 "metadata": {
  "kernelspec": {
   "display_name": "Python 3",
   "language": "python",
   "name": "python3"
  },
  "language_info": {
   "codemirror_mode": {
    "name": "ipython",
    "version": 3
   },
   "file_extension": ".py",
   "mimetype": "text/x-python",
   "name": "python",
   "nbconvert_exporter": "python",
   "pygments_lexer": "ipython3",
   "version": "3.7.6"
  }
 },
 "nbformat": 4,
 "nbformat_minor": 4
}
